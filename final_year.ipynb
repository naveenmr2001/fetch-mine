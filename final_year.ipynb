{
  "nbformat": 4,
  "nbformat_minor": 0,
  "metadata": {
    "colab": {
      "provenance": []
    },
    "kernelspec": {
      "name": "python3",
      "display_name": "Python 3"
    },
    "language_info": {
      "name": "python"
    }
  },
  "cells": [
    {
      "cell_type": "code",
      "source": [
        "import pandas as pd\n",
        "import os\n",
        "import seaborn as sns\n",
        "from sklearn.svm import SVC, LinearSVC\n",
        "from sklearn.linear_model import LogisticRegression\n",
        "from sklearn.model_selection import train_test_split\n",
        "from sklearn.preprocessing import LabelEncoder\n",
        "from sklearn.neighbors import KNeighborsClassifier\n",
        "from sklearn.tree import DecisionTreeClassifier\n",
        "from sklearn import linear_model\n",
        "from sklearn.linear_model import LogisticRegression\n",
        "from sklearn.ensemble import RandomForestClassifier\n",
        "from sklearn.linear_model import Perceptron\n",
        "from sklearn.linear_model import SGDClassifier\n",
        "from sklearn.tree import DecisionTreeClassifier\n",
        "from sklearn.neighbors import KNeighborsClassifier\n",
        "from sklearn.svm import SVC, LinearSVC\n",
        "from sklearn.naive_bayes import GaussianNB\n",
        "from sklearn.model_selection import cross_val_score\n",
        "from sklearn.metrics import confusion_matrix\n",
        "import matplotlib.pyplot as plt\n",
        "from sklearn.metrics import confusion_matrix, accuracy_score, precision_score, recall_score, f1_score\n",
        "from sklearn import metrics\n",
        "import seaborn as sns\n",
        "import pickle"
      ],
      "metadata": {
        "id": "Rrrn4gyMvlhW"
      },
      "execution_count": null,
      "outputs": []
    },
    {
      "cell_type": "code",
      "source": [
        "from google.colab import drive\n",
        "\n",
        "drive.mount('/content/drive')"
      ],
      "metadata": {
        "colab": {
          "base_uri": "https://localhost:8080/"
        },
        "id": "-muE3LIL-Yov",
        "outputId": "a270d966-cf09-4ba0-f48a-76179feb1357"
      },
      "execution_count": null,
      "outputs": [
        {
          "output_type": "stream",
          "name": "stdout",
          "text": [
            "Drive already mounted at /content/drive; to attempt to forcibly remount, call drive.mount(\"/content/drive\", force_remount=True).\n"
          ]
        }
      ]
    },
    {
      "cell_type": "code",
      "source": [
        "print(os.getcwd())"
      ],
      "metadata": {
        "colab": {
          "base_uri": "https://localhost:8080/"
        },
        "id": "sGZjbtKC_Vmw",
        "outputId": "9b09aee3-92f1-4054-f5ba-51a7b0c2770f"
      },
      "execution_count": null,
      "outputs": [
        {
          "output_type": "stream",
          "name": "stdout",
          "text": [
            "/content\n"
          ]
        }
      ]
    },
    {
      "cell_type": "code",
      "source": [
        "data = pd.read_csv('./drive/MyDrive/Final/dataset.csv')"
      ],
      "metadata": {
        "id": "PN1xisanve8O"
      },
      "execution_count": null,
      "outputs": []
    },
    {
      "cell_type": "code",
      "source": [
        "data.describe()"
      ],
      "metadata": {
        "colab": {
          "base_uri": "https://localhost:8080/",
          "height": 300
        },
        "id": "e_e5ctxMy6OQ",
        "outputId": "de048d01-913a-4f44-d986-0a1b63c0908b"
      },
      "execution_count": null,
      "outputs": [
        {
          "output_type": "execute_result",
          "data": {
            "text/plain": [
              "        BreachYear   BreachCount\n",
              "count  1134.000000  1.134000e+03\n",
              "mean   2015.878307  2.295828e+07\n",
              "std       3.745101  1.121235e+08\n",
              "min    2004.000000  3.500000e+02\n",
              "25%    2014.000000  2.517998e+05\n",
              "50%    2016.000000  1.152909e+06\n",
              "75%    2019.000000  7.089049e+06\n",
              "max    2023.000000  3.000000e+09"
            ],
            "text/html": [
              "\n",
              "  <div id=\"df-4a3446b2-a1ec-4786-9972-db7288443a32\">\n",
              "    <div class=\"colab-df-container\">\n",
              "      <div>\n",
              "<style scoped>\n",
              "    .dataframe tbody tr th:only-of-type {\n",
              "        vertical-align: middle;\n",
              "    }\n",
              "\n",
              "    .dataframe tbody tr th {\n",
              "        vertical-align: top;\n",
              "    }\n",
              "\n",
              "    .dataframe thead th {\n",
              "        text-align: right;\n",
              "    }\n",
              "</style>\n",
              "<table border=\"1\" class=\"dataframe\">\n",
              "  <thead>\n",
              "    <tr style=\"text-align: right;\">\n",
              "      <th></th>\n",
              "      <th>BreachYear</th>\n",
              "      <th>BreachCount</th>\n",
              "    </tr>\n",
              "  </thead>\n",
              "  <tbody>\n",
              "    <tr>\n",
              "      <th>count</th>\n",
              "      <td>1134.000000</td>\n",
              "      <td>1.134000e+03</td>\n",
              "    </tr>\n",
              "    <tr>\n",
              "      <th>mean</th>\n",
              "      <td>2015.878307</td>\n",
              "      <td>2.295828e+07</td>\n",
              "    </tr>\n",
              "    <tr>\n",
              "      <th>std</th>\n",
              "      <td>3.745101</td>\n",
              "      <td>1.121235e+08</td>\n",
              "    </tr>\n",
              "    <tr>\n",
              "      <th>min</th>\n",
              "      <td>2004.000000</td>\n",
              "      <td>3.500000e+02</td>\n",
              "    </tr>\n",
              "    <tr>\n",
              "      <th>25%</th>\n",
              "      <td>2014.000000</td>\n",
              "      <td>2.517998e+05</td>\n",
              "    </tr>\n",
              "    <tr>\n",
              "      <th>50%</th>\n",
              "      <td>2016.000000</td>\n",
              "      <td>1.152909e+06</td>\n",
              "    </tr>\n",
              "    <tr>\n",
              "      <th>75%</th>\n",
              "      <td>2019.000000</td>\n",
              "      <td>7.089049e+06</td>\n",
              "    </tr>\n",
              "    <tr>\n",
              "      <th>max</th>\n",
              "      <td>2023.000000</td>\n",
              "      <td>3.000000e+09</td>\n",
              "    </tr>\n",
              "  </tbody>\n",
              "</table>\n",
              "</div>\n",
              "      <button class=\"colab-df-convert\" onclick=\"convertToInteractive('df-4a3446b2-a1ec-4786-9972-db7288443a32')\"\n",
              "              title=\"Convert this dataframe to an interactive table.\"\n",
              "              style=\"display:none;\">\n",
              "        \n",
              "  <svg xmlns=\"http://www.w3.org/2000/svg\" height=\"24px\"viewBox=\"0 0 24 24\"\n",
              "       width=\"24px\">\n",
              "    <path d=\"M0 0h24v24H0V0z\" fill=\"none\"/>\n",
              "    <path d=\"M18.56 5.44l.94 2.06.94-2.06 2.06-.94-2.06-.94-.94-2.06-.94 2.06-2.06.94zm-11 1L8.5 8.5l.94-2.06 2.06-.94-2.06-.94L8.5 2.5l-.94 2.06-2.06.94zm10 10l.94 2.06.94-2.06 2.06-.94-2.06-.94-.94-2.06-.94 2.06-2.06.94z\"/><path d=\"M17.41 7.96l-1.37-1.37c-.4-.4-.92-.59-1.43-.59-.52 0-1.04.2-1.43.59L10.3 9.45l-7.72 7.72c-.78.78-.78 2.05 0 2.83L4 21.41c.39.39.9.59 1.41.59.51 0 1.02-.2 1.41-.59l7.78-7.78 2.81-2.81c.8-.78.8-2.07 0-2.86zM5.41 20L4 18.59l7.72-7.72 1.47 1.35L5.41 20z\"/>\n",
              "  </svg>\n",
              "      </button>\n",
              "      \n",
              "  <style>\n",
              "    .colab-df-container {\n",
              "      display:flex;\n",
              "      flex-wrap:wrap;\n",
              "      gap: 12px;\n",
              "    }\n",
              "\n",
              "    .colab-df-convert {\n",
              "      background-color: #E8F0FE;\n",
              "      border: none;\n",
              "      border-radius: 50%;\n",
              "      cursor: pointer;\n",
              "      display: none;\n",
              "      fill: #1967D2;\n",
              "      height: 32px;\n",
              "      padding: 0 0 0 0;\n",
              "      width: 32px;\n",
              "    }\n",
              "\n",
              "    .colab-df-convert:hover {\n",
              "      background-color: #E2EBFA;\n",
              "      box-shadow: 0px 1px 2px rgba(60, 64, 67, 0.3), 0px 1px 3px 1px rgba(60, 64, 67, 0.15);\n",
              "      fill: #174EA6;\n",
              "    }\n",
              "\n",
              "    [theme=dark] .colab-df-convert {\n",
              "      background-color: #3B4455;\n",
              "      fill: #D2E3FC;\n",
              "    }\n",
              "\n",
              "    [theme=dark] .colab-df-convert:hover {\n",
              "      background-color: #434B5C;\n",
              "      box-shadow: 0px 1px 3px 1px rgba(0, 0, 0, 0.15);\n",
              "      filter: drop-shadow(0px 1px 2px rgba(0, 0, 0, 0.3));\n",
              "      fill: #FFFFFF;\n",
              "    }\n",
              "  </style>\n",
              "\n",
              "      <script>\n",
              "        const buttonEl =\n",
              "          document.querySelector('#df-4a3446b2-a1ec-4786-9972-db7288443a32 button.colab-df-convert');\n",
              "        buttonEl.style.display =\n",
              "          google.colab.kernel.accessAllowed ? 'block' : 'none';\n",
              "\n",
              "        async function convertToInteractive(key) {\n",
              "          const element = document.querySelector('#df-4a3446b2-a1ec-4786-9972-db7288443a32');\n",
              "          const dataTable =\n",
              "            await google.colab.kernel.invokeFunction('convertToInteractive',\n",
              "                                                     [key], {});\n",
              "          if (!dataTable) return;\n",
              "\n",
              "          const docLinkHtml = 'Like what you see? Visit the ' +\n",
              "            '<a target=\"_blank\" href=https://colab.research.google.com/notebooks/data_table.ipynb>data table notebook</a>'\n",
              "            + ' to learn more about interactive tables.';\n",
              "          element.innerHTML = '';\n",
              "          dataTable['output_type'] = 'display_data';\n",
              "          await google.colab.output.renderOutput(dataTable, element);\n",
              "          const docLink = document.createElement('div');\n",
              "          docLink.innerHTML = docLinkHtml;\n",
              "          element.appendChild(docLink);\n",
              "        }\n",
              "      </script>\n",
              "    </div>\n",
              "  </div>\n",
              "  "
            ]
          },
          "metadata": {},
          "execution_count": 5
        }
      ]
    },
    {
      "cell_type": "code",
      "source": [
        "display(data)"
      ],
      "metadata": {
        "colab": {
          "base_uri": "https://localhost:8080/",
          "height": 424
        },
        "id": "IsjCpCC3vudg",
        "outputId": "3728ee4b-8bd4-4432-84bc-0f838dfd93e9"
      },
      "execution_count": null,
      "outputs": [
        {
          "output_type": "display_data",
          "data": {
            "text/plain": [
              "                    Name                 Domain  BreachYear  BreachCount  \\\n",
              "0             000webhost         000webhost.com        2015     13545468   \n",
              "1                17Media               17app.co        2016      4009640   \n",
              "2                AcneOrg               acne.org        2014       432943   \n",
              "3                  Adobe              adobe.com        2013    152445165   \n",
              "4      AdultFriendFinder  adultfriendfinder.com        2015      3867997   \n",
              "...                  ...                    ...         ...          ...   \n",
              "1129              Zurich           zurich.co.jp        2023       756737   \n",
              "1130               Zynga              zynga.com        2019    172869660   \n",
              "1131              Parapa         parapa.mail.ru        2016      4946850   \n",
              "1132        SprashivaiRu          sprashivai.ru        2015      3474763   \n",
              "1133  DecoratingTheHouse           ggumim.co.kr        2020      1298651   \n",
              "\n",
              "     ClassLabels  \n",
              "0           high  \n",
              "1           high  \n",
              "2            low  \n",
              "3           high  \n",
              "4         medium  \n",
              "...          ...  \n",
              "1129      medium  \n",
              "1130        high  \n",
              "1131        high  \n",
              "1132      medium  \n",
              "1133      medium  \n",
              "\n",
              "[1134 rows x 5 columns]"
            ],
            "text/html": [
              "\n",
              "  <div id=\"df-b44134eb-2d61-4378-a5ff-42384ee833c1\">\n",
              "    <div class=\"colab-df-container\">\n",
              "      <div>\n",
              "<style scoped>\n",
              "    .dataframe tbody tr th:only-of-type {\n",
              "        vertical-align: middle;\n",
              "    }\n",
              "\n",
              "    .dataframe tbody tr th {\n",
              "        vertical-align: top;\n",
              "    }\n",
              "\n",
              "    .dataframe thead th {\n",
              "        text-align: right;\n",
              "    }\n",
              "</style>\n",
              "<table border=\"1\" class=\"dataframe\">\n",
              "  <thead>\n",
              "    <tr style=\"text-align: right;\">\n",
              "      <th></th>\n",
              "      <th>Name</th>\n",
              "      <th>Domain</th>\n",
              "      <th>BreachYear</th>\n",
              "      <th>BreachCount</th>\n",
              "      <th>ClassLabels</th>\n",
              "    </tr>\n",
              "  </thead>\n",
              "  <tbody>\n",
              "    <tr>\n",
              "      <th>0</th>\n",
              "      <td>000webhost</td>\n",
              "      <td>000webhost.com</td>\n",
              "      <td>2015</td>\n",
              "      <td>13545468</td>\n",
              "      <td>high</td>\n",
              "    </tr>\n",
              "    <tr>\n",
              "      <th>1</th>\n",
              "      <td>17Media</td>\n",
              "      <td>17app.co</td>\n",
              "      <td>2016</td>\n",
              "      <td>4009640</td>\n",
              "      <td>high</td>\n",
              "    </tr>\n",
              "    <tr>\n",
              "      <th>2</th>\n",
              "      <td>AcneOrg</td>\n",
              "      <td>acne.org</td>\n",
              "      <td>2014</td>\n",
              "      <td>432943</td>\n",
              "      <td>low</td>\n",
              "    </tr>\n",
              "    <tr>\n",
              "      <th>3</th>\n",
              "      <td>Adobe</td>\n",
              "      <td>adobe.com</td>\n",
              "      <td>2013</td>\n",
              "      <td>152445165</td>\n",
              "      <td>high</td>\n",
              "    </tr>\n",
              "    <tr>\n",
              "      <th>4</th>\n",
              "      <td>AdultFriendFinder</td>\n",
              "      <td>adultfriendfinder.com</td>\n",
              "      <td>2015</td>\n",
              "      <td>3867997</td>\n",
              "      <td>medium</td>\n",
              "    </tr>\n",
              "    <tr>\n",
              "      <th>...</th>\n",
              "      <td>...</td>\n",
              "      <td>...</td>\n",
              "      <td>...</td>\n",
              "      <td>...</td>\n",
              "      <td>...</td>\n",
              "    </tr>\n",
              "    <tr>\n",
              "      <th>1129</th>\n",
              "      <td>Zurich</td>\n",
              "      <td>zurich.co.jp</td>\n",
              "      <td>2023</td>\n",
              "      <td>756737</td>\n",
              "      <td>medium</td>\n",
              "    </tr>\n",
              "    <tr>\n",
              "      <th>1130</th>\n",
              "      <td>Zynga</td>\n",
              "      <td>zynga.com</td>\n",
              "      <td>2019</td>\n",
              "      <td>172869660</td>\n",
              "      <td>high</td>\n",
              "    </tr>\n",
              "    <tr>\n",
              "      <th>1131</th>\n",
              "      <td>Parapa</td>\n",
              "      <td>parapa.mail.ru</td>\n",
              "      <td>2016</td>\n",
              "      <td>4946850</td>\n",
              "      <td>high</td>\n",
              "    </tr>\n",
              "    <tr>\n",
              "      <th>1132</th>\n",
              "      <td>SprashivaiRu</td>\n",
              "      <td>sprashivai.ru</td>\n",
              "      <td>2015</td>\n",
              "      <td>3474763</td>\n",
              "      <td>medium</td>\n",
              "    </tr>\n",
              "    <tr>\n",
              "      <th>1133</th>\n",
              "      <td>DecoratingTheHouse</td>\n",
              "      <td>ggumim.co.kr</td>\n",
              "      <td>2020</td>\n",
              "      <td>1298651</td>\n",
              "      <td>medium</td>\n",
              "    </tr>\n",
              "  </tbody>\n",
              "</table>\n",
              "<p>1134 rows × 5 columns</p>\n",
              "</div>\n",
              "      <button class=\"colab-df-convert\" onclick=\"convertToInteractive('df-b44134eb-2d61-4378-a5ff-42384ee833c1')\"\n",
              "              title=\"Convert this dataframe to an interactive table.\"\n",
              "              style=\"display:none;\">\n",
              "        \n",
              "  <svg xmlns=\"http://www.w3.org/2000/svg\" height=\"24px\"viewBox=\"0 0 24 24\"\n",
              "       width=\"24px\">\n",
              "    <path d=\"M0 0h24v24H0V0z\" fill=\"none\"/>\n",
              "    <path d=\"M18.56 5.44l.94 2.06.94-2.06 2.06-.94-2.06-.94-.94-2.06-.94 2.06-2.06.94zm-11 1L8.5 8.5l.94-2.06 2.06-.94-2.06-.94L8.5 2.5l-.94 2.06-2.06.94zm10 10l.94 2.06.94-2.06 2.06-.94-2.06-.94-.94-2.06-.94 2.06-2.06.94z\"/><path d=\"M17.41 7.96l-1.37-1.37c-.4-.4-.92-.59-1.43-.59-.52 0-1.04.2-1.43.59L10.3 9.45l-7.72 7.72c-.78.78-.78 2.05 0 2.83L4 21.41c.39.39.9.59 1.41.59.51 0 1.02-.2 1.41-.59l7.78-7.78 2.81-2.81c.8-.78.8-2.07 0-2.86zM5.41 20L4 18.59l7.72-7.72 1.47 1.35L5.41 20z\"/>\n",
              "  </svg>\n",
              "      </button>\n",
              "      \n",
              "  <style>\n",
              "    .colab-df-container {\n",
              "      display:flex;\n",
              "      flex-wrap:wrap;\n",
              "      gap: 12px;\n",
              "    }\n",
              "\n",
              "    .colab-df-convert {\n",
              "      background-color: #E8F0FE;\n",
              "      border: none;\n",
              "      border-radius: 50%;\n",
              "      cursor: pointer;\n",
              "      display: none;\n",
              "      fill: #1967D2;\n",
              "      height: 32px;\n",
              "      padding: 0 0 0 0;\n",
              "      width: 32px;\n",
              "    }\n",
              "\n",
              "    .colab-df-convert:hover {\n",
              "      background-color: #E2EBFA;\n",
              "      box-shadow: 0px 1px 2px rgba(60, 64, 67, 0.3), 0px 1px 3px 1px rgba(60, 64, 67, 0.15);\n",
              "      fill: #174EA6;\n",
              "    }\n",
              "\n",
              "    [theme=dark] .colab-df-convert {\n",
              "      background-color: #3B4455;\n",
              "      fill: #D2E3FC;\n",
              "    }\n",
              "\n",
              "    [theme=dark] .colab-df-convert:hover {\n",
              "      background-color: #434B5C;\n",
              "      box-shadow: 0px 1px 3px 1px rgba(0, 0, 0, 0.15);\n",
              "      filter: drop-shadow(0px 1px 2px rgba(0, 0, 0, 0.3));\n",
              "      fill: #FFFFFF;\n",
              "    }\n",
              "  </style>\n",
              "\n",
              "      <script>\n",
              "        const buttonEl =\n",
              "          document.querySelector('#df-b44134eb-2d61-4378-a5ff-42384ee833c1 button.colab-df-convert');\n",
              "        buttonEl.style.display =\n",
              "          google.colab.kernel.accessAllowed ? 'block' : 'none';\n",
              "\n",
              "        async function convertToInteractive(key) {\n",
              "          const element = document.querySelector('#df-b44134eb-2d61-4378-a5ff-42384ee833c1');\n",
              "          const dataTable =\n",
              "            await google.colab.kernel.invokeFunction('convertToInteractive',\n",
              "                                                     [key], {});\n",
              "          if (!dataTable) return;\n",
              "\n",
              "          const docLinkHtml = 'Like what you see? Visit the ' +\n",
              "            '<a target=\"_blank\" href=https://colab.research.google.com/notebooks/data_table.ipynb>data table notebook</a>'\n",
              "            + ' to learn more about interactive tables.';\n",
              "          element.innerHTML = '';\n",
              "          dataTable['output_type'] = 'display_data';\n",
              "          await google.colab.output.renderOutput(dataTable, element);\n",
              "          const docLink = document.createElement('div');\n",
              "          docLink.innerHTML = docLinkHtml;\n",
              "          element.appendChild(docLink);\n",
              "        }\n",
              "      </script>\n",
              "    </div>\n",
              "  </div>\n",
              "  "
            ]
          },
          "metadata": {}
        }
      ]
    },
    {
      "cell_type": "code",
      "source": [
        "y = data.ClassLabels\n",
        "le = LabelEncoder()\n",
        "encoded_data = le.fit_transform(y)\n",
        "y = encoded_data\n",
        "print(y)"
      ],
      "metadata": {
        "colab": {
          "base_uri": "https://localhost:8080/"
        },
        "id": "o6qQ09MC_9N7",
        "outputId": "54087d83-d504-4364-eddf-11e0abfa5e57"
      },
      "execution_count": null,
      "outputs": [
        {
          "output_type": "stream",
          "name": "stdout",
          "text": [
            "[0 0 1 ... 0 2 2]\n"
          ]
        }
      ]
    },
    {
      "cell_type": "code",
      "source": [
        "x = data.drop('ClassLabels',axis=1)\n",
        "x = x.drop('BreachYear',axis=1)\n",
        "x = x.drop('Name',axis=1)\n",
        "print(x)"
      ],
      "metadata": {
        "colab": {
          "base_uri": "https://localhost:8080/"
        },
        "id": "GL2gR6GMAFSs",
        "outputId": "59194c22-8e1c-41a3-bfd9-4cdf8c0bc8c9"
      },
      "execution_count": null,
      "outputs": [
        {
          "output_type": "stream",
          "name": "stdout",
          "text": [
            "                     Domain  BreachCount\n",
            "0            000webhost.com     13545468\n",
            "1                  17app.co      4009640\n",
            "2                  acne.org       432943\n",
            "3                 adobe.com    152445165\n",
            "4     adultfriendfinder.com      3867997\n",
            "...                     ...          ...\n",
            "1129           zurich.co.jp       756737\n",
            "1130              zynga.com    172869660\n",
            "1131         parapa.mail.ru      4946850\n",
            "1132          sprashivai.ru      3474763\n",
            "1133           ggumim.co.kr      1298651\n",
            "\n",
            "[1134 rows x 2 columns]\n"
          ]
        }
      ]
    },
    {
      "cell_type": "code",
      "source": [
        "le = LabelEncoder()\n",
        "x['Domain'] = le.fit_transform(x['Domain'])\n",
        "print(x)"
      ],
      "metadata": {
        "colab": {
          "base_uri": "https://localhost:8080/"
        },
        "id": "3gz48PwGhMRd",
        "outputId": "7ed6edb8-fb7e-4227-ab45-c296082b75b8"
      },
      "execution_count": null,
      "outputs": [
        {
          "output_type": "stream",
          "name": "stdout",
          "text": [
            "      Domain  BreachCount\n",
            "0          0     13545468\n",
            "1          5      4009640\n",
            "2         26       432943\n",
            "3         30    152445165\n",
            "4         33      3867997\n",
            "...      ...          ...\n",
            "1129     914       756737\n",
            "1130     915    172869660\n",
            "1131     600      4946850\n",
            "1132     730      3474763\n",
            "1133     336      1298651\n",
            "\n",
            "[1134 rows x 2 columns]\n"
          ]
        }
      ]
    },
    {
      "cell_type": "code",
      "source": [
        "x_train,x_test,y_train,y_test=train_test_split(x,y,test_size=0.2)\n",
        "print(x_test)"
      ],
      "metadata": {
        "colab": {
          "base_uri": "https://localhost:8080/"
        },
        "id": "4XaEWI5HGDz1",
        "outputId": "33c3f4d6-2be6-4a30-9aa1-fd4bdebe2d77"
      },
      "execution_count": null,
      "outputs": [
        {
          "output_type": "stream",
          "name": "stdout",
          "text": [
            "      Domain  BreachCount\n",
            "849      517       396533\n",
            "254      326       800000\n",
            "649      239      6486626\n",
            "156       55      1220000\n",
            "262      355       808000\n",
            "...      ...          ...\n",
            "909      606      3395101\n",
            "668      269       655161\n",
            "1068     834      4775203\n",
            "433      814        63000\n",
            "202      182        40000\n",
            "\n",
            "[227 rows x 2 columns]\n"
          ]
        }
      ]
    },
    {
      "cell_type": "code",
      "source": [
        "print(\"shape of original dataset :\", data.shape)\n",
        "print(\"shape of input - training set\", x_train.shape)\n",
        "print(\"shape of output - training set\", y_train.shape)\n",
        "print(\"shape of input - testing set\", x_test.shape)\n",
        "print(\"shape of output - testing set\", y_test.shape)"
      ],
      "metadata": {
        "colab": {
          "base_uri": "https://localhost:8080/"
        },
        "id": "JgZ9vM_LA9gR",
        "outputId": "a77e9e89-34c8-459d-9b58-b10585a94f11"
      },
      "execution_count": null,
      "outputs": [
        {
          "output_type": "stream",
          "name": "stdout",
          "text": [
            "shape of original dataset : (1134, 5)\n",
            "shape of input - training set (907, 2)\n",
            "shape of output - training set (907,)\n",
            "shape of input - testing set (227, 2)\n",
            "shape of output - testing set (227,)\n"
          ]
        }
      ]
    },
    {
      "cell_type": "code",
      "source": [
        "knn = KNeighborsClassifier(n_neighbors = 100)\n",
        "knn.fit(x_train, y_train)\n",
        "y_pred = knn.predict(x_test)\n",
        "acc_knn = round(knn.score(x_train, y_train) * 100, 2)\n",
        "cm = confusion_matrix(y_test, y_pred)\n",
        "\n",
        "# Compute evaluation metrics\n",
        "accuracy = accuracy_score(y_test, y_pred)\n",
        "precision = precision_score(y_test, y_pred,pos_label='positive',average='micro')\n",
        "recall = recall_score(y_test, y_pred,pos_label='positive',average='micro')\n",
        "f1 = f1_score(y_test, y_pred,pos_label='positive',average='micro')\n",
        "\n",
        "# print(\"Precision Score : \",precision_score(y_test, y_pred, \n",
        "#                                            pos_label='positive',\n",
        "#                                            average='micro'))\n",
        "# print(\"Recall Score : \",recall_score(y_test, y_pred, \n",
        "#                                            pos_label='positive',\n",
        "#                                            average='micro'))\n",
        "\n",
        "# Plot confusion matrix with values and labels\n",
        "plt.imshow(cm, cmap=plt.cm.Blues)\n",
        "plt.title('Confusion Matrix')\n",
        "plt.colorbar()\n",
        "plt.xticks([0, 1], ['Predicted 0', 'Predicted 1'])\n",
        "plt.yticks([0, 1], ['Actual 0', 'Actual 1'])\n",
        "plt.xlabel('Predicted label\\n\\nAccuracy={:.2f}\\nPrecision={:.2f}\\nRecall={:.2f}\\nF1 score={:.2f}'.format(accuracy, precision, recall, f1))\n",
        "plt.ylabel('True label')\n",
        "\n",
        "# Add values to confusion matrix\n",
        "for i in range(len(cm)):\n",
        "    for j in range(len(cm)):\n",
        "        plt.text(j, i, cm[i, j], ha='center', va='center', color='black')\n",
        "\n",
        "plt.show()"
      ],
      "metadata": {
        "colab": {
          "base_uri": "https://localhost:8080/",
          "height": 677
        },
        "id": "4ouR_aM-73KC",
        "outputId": "eb7621db-5a49-4b43-a144-ec842a9d8261"
      },
      "execution_count": null,
      "outputs": [
        {
          "output_type": "stream",
          "name": "stderr",
          "text": [
            "/usr/local/lib/python3.9/dist-packages/sklearn/metrics/_classification.py:1396: UserWarning: Note that pos_label (set to 'positive') is ignored when average != 'binary' (got 'micro'). You may use labels=[pos_label] to specify a single positive class.\n",
            "  warnings.warn(\n",
            "/usr/local/lib/python3.9/dist-packages/sklearn/metrics/_classification.py:1396: UserWarning: Note that pos_label (set to 'positive') is ignored when average != 'binary' (got 'micro'). You may use labels=[pos_label] to specify a single positive class.\n",
            "  warnings.warn(\n",
            "/usr/local/lib/python3.9/dist-packages/sklearn/metrics/_classification.py:1396: UserWarning: Note that pos_label (set to 'positive') is ignored when average != 'binary' (got 'micro'). You may use labels=[pos_label] to specify a single positive class.\n",
            "  warnings.warn(\n"
          ]
        },
        {
          "output_type": "display_data",
          "data": {
            "text/plain": [
              "<Figure size 640x480 with 2 Axes>"
            ],
            "image/png": "[encoded data removed]"
          },
          "metadata": {}
        }
      ]
    },
    {
      "cell_type": "code",
      "source": [
        "logreg = LogisticRegression()\n",
        "logreg.fit(x_train, y_train)\n",
        "y_pred = logreg.predict(x_test)\n",
        "acc_log = round(logreg.score(x_train, y_train) * 100, 2)\n",
        "cm = confusion_matrix(y_test, y_pred)\n",
        "\n",
        "# Compute evaluation metrics\n",
        "accuracy = accuracy_score(y_test, y_pred)\n",
        "precision = precision_score(y_test, y_pred,pos_label='positive',average='micro')\n",
        "recall = recall_score(y_test, y_pred,pos_label='positive',average='micro')\n",
        "f1 = f1_score(y_test, y_pred,pos_label='positive',average='micro')\n",
        "\n",
        "# print(\"Precision Score : \",precision_score(y_test, y_pred, \n",
        "#                                            pos_label='positive',\n",
        "#                                            average='micro'))\n",
        "# print(\"Recall Score : \",recall_score(y_test, y_pred, \n",
        "#                                            pos_label='positive',\n",
        "#                                            average='micro'))\n",
        "\n",
        "# Plot confusion matrix with values and labels\n",
        "plt.imshow(cm, cmap=plt.cm.Blues)\n",
        "plt.title('Confusion Matrix')\n",
        "plt.colorbar()\n",
        "plt.xticks([0, 1], ['Predicted 0', 'Predicted 1'])\n",
        "plt.yticks([0, 1], ['Actual 0', 'Actual 1'])\n",
        "plt.xlabel('Predicted label\\n\\nAccuracy={:.2f}\\nPrecision={:.2f}\\nRecall={:.2f}\\nF1 score={:.2f}'.format(accuracy, precision, recall, f1))\n",
        "plt.ylabel('True label')\n",
        "\n",
        "# Add values to confusion matrix\n",
        "for i in range(len(cm)):\n",
        "    for j in range(len(cm)):\n",
        "        plt.text(j, i, cm[i, j], ha='center', va='center', color='black')\n",
        "\n",
        "plt.show()"
      ],
      "metadata": {
        "colab": {
          "base_uri": "https://localhost:8080/",
          "height": 677
        },
        "id": "ihIPvBYTIPKx",
        "outputId": "b0c31b13-b1a4-4645-9f4d-ba919016548c"
      },
      "execution_count": null,
      "outputs": [
        {
          "output_type": "stream",
          "name": "stderr",
          "text": [
            "/usr/local/lib/python3.9/dist-packages/sklearn/metrics/_classification.py:1396: UserWarning: Note that pos_label (set to 'positive') is ignored when average != 'binary' (got 'micro'). You may use labels=[pos_label] to specify a single positive class.\n",
            "  warnings.warn(\n",
            "/usr/local/lib/python3.9/dist-packages/sklearn/metrics/_classification.py:1396: UserWarning: Note that pos_label (set to 'positive') is ignored when average != 'binary' (got 'micro'). You may use labels=[pos_label] to specify a single positive class.\n",
            "  warnings.warn(\n",
            "/usr/local/lib/python3.9/dist-packages/sklearn/metrics/_classification.py:1396: UserWarning: Note that pos_label (set to 'positive') is ignored when average != 'binary' (got 'micro'). You may use labels=[pos_label] to specify a single positive class.\n",
            "  warnings.warn(\n"
          ]
        },
        {
          "output_type": "display_data",
          "data": {
            "text/plain": [
              "<Figure size 640x480 with 2 Axes>"
            ],
            "image/png": "[encoded data removed]"
          },
          "metadata": {}
        }
      ]
    },
    {
      "cell_type": "code",
      "source": [
        "\n",
        "linear_svc = LinearSVC()\n",
        "linear_svc.fit(x_train, y_train)\n",
        "y_pred = linear_svc.predict(x_test)\n",
        "acc_linear_svc = round(linear_svc.score(x_train, y_train) * 100, 2)\n",
        "cm = confusion_matrix(y_test, y_pred)\n",
        "\n",
        "# Compute evaluation metrics\n",
        "accuracy = accuracy_score(y_test, y_pred)\n",
        "precision = precision_score(y_test, y_pred,pos_label='positive',average='micro')\n",
        "recall = recall_score(y_test, y_pred,pos_label='positive',average='micro')\n",
        "f1 = f1_score(y_test, y_pred,pos_label='positive',average='micro')\n",
        "\n",
        "# print(\"Precision Score : \",precision_score(y_test, y_pred, \n",
        "#                                            pos_label='positive',\n",
        "#                                            average='micro'))\n",
        "# print(\"Recall Score : \",recall_score(y_test, y_pred, \n",
        "#                                            pos_label='positive',\n",
        "#                                            average='micro'))\n",
        "\n",
        "# Plot confusion matrix with values and labels\n",
        "plt.imshow(cm, cmap=plt.cm.Blues)\n",
        "plt.title('Confusion Matrix')\n",
        "plt.colorbar()\n",
        "plt.xticks([0, 1], ['Predicted 0', 'Predicted 1'])\n",
        "plt.yticks([0, 1], ['Actual 0', 'Actual 1'])\n",
        "plt.xlabel('Predicted label\\n\\nAccuracy={:.2f}\\nPrecision={:.2f}\\nRecall={:.2f}\\nF1 score={:.2f}'.format(accuracy, precision, recall, f1))\n",
        "plt.ylabel('True label')\n",
        "\n",
        "# Add values to confusion matrix\n",
        "for i in range(len(cm)):\n",
        "    for j in range(len(cm)):\n",
        "        plt.text(j, i, cm[i, j], ha='center', va='center', color='black')\n",
        "\n",
        "plt.show()\n"
      ],
      "metadata": {
        "colab": {
          "base_uri": "https://localhost:8080/",
          "height": 712
        },
        "id": "PddpzY01Ia8y",
        "outputId": "ff855ad9-46ed-467b-e049-2295e1629fe1"
      },
      "execution_count": null,
      "outputs": [
        {
          "output_type": "stream",
          "name": "stderr",
          "text": [
            "/usr/local/lib/python3.9/dist-packages/sklearn/svm/_base.py:1244: ConvergenceWarning: Liblinear failed to converge, increase the number of iterations.\n",
            "  warnings.warn(\n",
            "/usr/local/lib/python3.9/dist-packages/sklearn/metrics/_classification.py:1396: UserWarning: Note that pos_label (set to 'positive') is ignored when average != 'binary' (got 'micro'). You may use labels=[pos_label] to specify a single positive class.\n",
            "  warnings.warn(\n",
            "/usr/local/lib/python3.9/dist-packages/sklearn/metrics/_classification.py:1396: UserWarning: Note that pos_label (set to 'positive') is ignored when average != 'binary' (got 'micro'). You may use labels=[pos_label] to specify a single positive class.\n",
            "  warnings.warn(\n",
            "/usr/local/lib/python3.9/dist-packages/sklearn/metrics/_classification.py:1396: UserWarning: Note that pos_label (set to 'positive') is ignored when average != 'binary' (got 'micro'). You may use labels=[pos_label] to specify a single positive class.\n",
            "  warnings.warn(\n"
          ]
        },
        {
          "output_type": "display_data",
          "data": {
            "text/plain": [
              "<Figure size 640x480 with 2 Axes>"
            ],
            "image/png": "[encoded data removed]"
          },
          "metadata": {}
        }
      ]
    },
    {
      "cell_type": "code",
      "source": [
        "filename = 'model.pkl'\n",
        "pickle.dump(knn, open(filename, 'wb'))"
      ],
      "metadata": {
        "id": "bCN7R9gC27zK"
      },
      "execution_count": null,
      "outputs": []
    }
  ]
}